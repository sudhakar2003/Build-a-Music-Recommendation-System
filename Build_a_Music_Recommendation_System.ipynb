{
  "nbformat": 4,
  "nbformat_minor": 0,
  "metadata": {
    "colab": {
      "provenance": [],
      "authorship_tag": "ABX9TyPmFazSNHxZBk8BATXPfGkv",
      "include_colab_link": true
    },
    "kernelspec": {
      "name": "python3",
      "display_name": "Python 3"
    },
    "language_info": {
      "name": "python"
    }
  },
  "cells": [
    {
      "cell_type": "markdown",
      "metadata": {
        "id": "view-in-github",
        "colab_type": "text"
      },
      "source": [
        "<a href=\"https://colab.research.google.com/github/sudhakar2003/Build-a-Music-Recommendation-System/blob/main/Build_a_Music_Recommendation_System.ipynb\" target=\"_parent\"><img src=\"https://colab.research.google.com/assets/colab-badge.svg\" alt=\"Open In Colab\"/></a>"
      ]
    },
    {
      "cell_type": "code",
      "execution_count": 61,
      "metadata": {
        "id": "mck6IVYoJjKL"
      },
      "outputs": [],
      "source": [
        "import numpy as np\n",
        "import pandas as pd\n",
        "from typing import List, Dict\n",
        "from sklearn.feature_extraction.text import TfidfVectorizer\n",
        "from sklearn.metrics.pairwise import cosine_similarity"
      ]
    },
    {
      "cell_type": "code",
      "source": [
        "songs = pd.read_csv(\"/content/songdata.csv\")"
      ],
      "metadata": {
        "id": "OI1TqivYJ49e"
      },
      "execution_count": 62,
      "outputs": []
    },
    {
      "cell_type": "code",
      "source": [
        "songs.head()"
      ],
      "metadata": {
        "colab": {
          "base_uri": "https://localhost:8080/",
          "height": 206
        },
        "id": "1rZG08zvMhoU",
        "outputId": "278e9d0c-66ce-450b-9907-8995c6a5fce1"
      },
      "execution_count": 63,
      "outputs": [
        {
          "output_type": "execute_result",
          "data": {
            "text/plain": [
              "  artist                   song                                        link  \\\n",
              "0   ABBA  Ahe's My Kind Of Girl  /a/abba/ahes+my+kind+of+girl_20598417.html   \n",
              "1   ABBA       Andante, Andante       /a/abba/andante+andante_20002708.html   \n",
              "2   ABBA         As Good As New        /a/abba/as+good+as+new_20003033.html   \n",
              "3   ABBA                   Bang                  /a/abba/bang_20598415.html   \n",
              "4   ABBA       Bang-A-Boomerang      /a/abba/bang+a+boomerang_20002668.html   \n",
              "\n",
              "                                                text  \n",
              "0  Look at her face, it's a wonderful face  \\nAnd...  \n",
              "1  Take it easy with me, please  \\nTouch me gentl...  \n",
              "2  I'll never know why I had to go  \\nWhy I had t...  \n",
              "3  Making somebody happy is a question of give an...  \n",
              "4  Making somebody happy is a question of give an...  "
            ],
            "text/html": [
              "\n",
              "  <div id=\"df-b0017740-2dff-4f11-8627-dfc624cc9364\" class=\"colab-df-container\">\n",
              "    <div>\n",
              "<style scoped>\n",
              "    .dataframe tbody tr th:only-of-type {\n",
              "        vertical-align: middle;\n",
              "    }\n",
              "\n",
              "    .dataframe tbody tr th {\n",
              "        vertical-align: top;\n",
              "    }\n",
              "\n",
              "    .dataframe thead th {\n",
              "        text-align: right;\n",
              "    }\n",
              "</style>\n",
              "<table border=\"1\" class=\"dataframe\">\n",
              "  <thead>\n",
              "    <tr style=\"text-align: right;\">\n",
              "      <th></th>\n",
              "      <th>artist</th>\n",
              "      <th>song</th>\n",
              "      <th>link</th>\n",
              "      <th>text</th>\n",
              "    </tr>\n",
              "  </thead>\n",
              "  <tbody>\n",
              "    <tr>\n",
              "      <th>0</th>\n",
              "      <td>ABBA</td>\n",
              "      <td>Ahe's My Kind Of Girl</td>\n",
              "      <td>/a/abba/ahes+my+kind+of+girl_20598417.html</td>\n",
              "      <td>Look at her face, it's a wonderful face  \\nAnd...</td>\n",
              "    </tr>\n",
              "    <tr>\n",
              "      <th>1</th>\n",
              "      <td>ABBA</td>\n",
              "      <td>Andante, Andante</td>\n",
              "      <td>/a/abba/andante+andante_20002708.html</td>\n",
              "      <td>Take it easy with me, please  \\nTouch me gentl...</td>\n",
              "    </tr>\n",
              "    <tr>\n",
              "      <th>2</th>\n",
              "      <td>ABBA</td>\n",
              "      <td>As Good As New</td>\n",
              "      <td>/a/abba/as+good+as+new_20003033.html</td>\n",
              "      <td>I'll never know why I had to go  \\nWhy I had t...</td>\n",
              "    </tr>\n",
              "    <tr>\n",
              "      <th>3</th>\n",
              "      <td>ABBA</td>\n",
              "      <td>Bang</td>\n",
              "      <td>/a/abba/bang_20598415.html</td>\n",
              "      <td>Making somebody happy is a question of give an...</td>\n",
              "    </tr>\n",
              "    <tr>\n",
              "      <th>4</th>\n",
              "      <td>ABBA</td>\n",
              "      <td>Bang-A-Boomerang</td>\n",
              "      <td>/a/abba/bang+a+boomerang_20002668.html</td>\n",
              "      <td>Making somebody happy is a question of give an...</td>\n",
              "    </tr>\n",
              "  </tbody>\n",
              "</table>\n",
              "</div>\n",
              "    <div class=\"colab-df-buttons\">\n",
              "\n",
              "  <div class=\"colab-df-container\">\n",
              "    <button class=\"colab-df-convert\" onclick=\"convertToInteractive('df-b0017740-2dff-4f11-8627-dfc624cc9364')\"\n",
              "            title=\"Convert this dataframe to an interactive table.\"\n",
              "            style=\"display:none;\">\n",
              "\n",
              "  <svg xmlns=\"http://www.w3.org/2000/svg\" height=\"24px\" viewBox=\"0 -960 960 960\">\n",
              "    <path d=\"M120-120v-720h720v720H120Zm60-500h600v-160H180v160Zm220 220h160v-160H400v160Zm0 220h160v-160H400v160ZM180-400h160v-160H180v160Zm440 0h160v-160H620v160ZM180-180h160v-160H180v160Zm440 0h160v-160H620v160Z\"/>\n",
              "  </svg>\n",
              "    </button>\n",
              "\n",
              "  <style>\n",
              "    .colab-df-container {\n",
              "      display:flex;\n",
              "      gap: 12px;\n",
              "    }\n",
              "\n",
              "    .colab-df-convert {\n",
              "      background-color: #E8F0FE;\n",
              "      border: none;\n",
              "      border-radius: 50%;\n",
              "      cursor: pointer;\n",
              "      display: none;\n",
              "      fill: #1967D2;\n",
              "      height: 32px;\n",
              "      padding: 0 0 0 0;\n",
              "      width: 32px;\n",
              "    }\n",
              "\n",
              "    .colab-df-convert:hover {\n",
              "      background-color: #E2EBFA;\n",
              "      box-shadow: 0px 1px 2px rgba(60, 64, 67, 0.3), 0px 1px 3px 1px rgba(60, 64, 67, 0.15);\n",
              "      fill: #174EA6;\n",
              "    }\n",
              "\n",
              "    .colab-df-buttons div {\n",
              "      margin-bottom: 4px;\n",
              "    }\n",
              "\n",
              "    [theme=dark] .colab-df-convert {\n",
              "      background-color: #3B4455;\n",
              "      fill: #D2E3FC;\n",
              "    }\n",
              "\n",
              "    [theme=dark] .colab-df-convert:hover {\n",
              "      background-color: #434B5C;\n",
              "      box-shadow: 0px 1px 3px 1px rgba(0, 0, 0, 0.15);\n",
              "      filter: drop-shadow(0px 1px 2px rgba(0, 0, 0, 0.3));\n",
              "      fill: #FFFFFF;\n",
              "    }\n",
              "  </style>\n",
              "\n",
              "    <script>\n",
              "      const buttonEl =\n",
              "        document.querySelector('#df-b0017740-2dff-4f11-8627-dfc624cc9364 button.colab-df-convert');\n",
              "      buttonEl.style.display =\n",
              "        google.colab.kernel.accessAllowed ? 'block' : 'none';\n",
              "\n",
              "      async function convertToInteractive(key) {\n",
              "        const element = document.querySelector('#df-b0017740-2dff-4f11-8627-dfc624cc9364');\n",
              "        const dataTable =\n",
              "          await google.colab.kernel.invokeFunction('convertToInteractive',\n",
              "                                                    [key], {});\n",
              "        if (!dataTable) return;\n",
              "\n",
              "        const docLinkHtml = 'Like what you see? Visit the ' +\n",
              "          '<a target=\"_blank\" href=https://colab.research.google.com/notebooks/data_table.ipynb>data table notebook</a>'\n",
              "          + ' to learn more about interactive tables.';\n",
              "        element.innerHTML = '';\n",
              "        dataTable['output_type'] = 'display_data';\n",
              "        await google.colab.output.renderOutput(dataTable, element);\n",
              "        const docLink = document.createElement('div');\n",
              "        docLink.innerHTML = docLinkHtml;\n",
              "        element.appendChild(docLink);\n",
              "      }\n",
              "    </script>\n",
              "  </div>\n",
              "\n",
              "\n",
              "<div id=\"df-b4d76077-1f22-4806-ae97-b2f7ad79119a\">\n",
              "  <button class=\"colab-df-quickchart\" onclick=\"quickchart('df-b4d76077-1f22-4806-ae97-b2f7ad79119a')\"\n",
              "            title=\"Suggest charts\"\n",
              "            style=\"display:none;\">\n",
              "\n",
              "<svg xmlns=\"http://www.w3.org/2000/svg\" height=\"24px\"viewBox=\"0 0 24 24\"\n",
              "     width=\"24px\">\n",
              "    <g>\n",
              "        <path d=\"M19 3H5c-1.1 0-2 .9-2 2v14c0 1.1.9 2 2 2h14c1.1 0 2-.9 2-2V5c0-1.1-.9-2-2-2zM9 17H7v-7h2v7zm4 0h-2V7h2v10zm4 0h-2v-4h2v4z\"/>\n",
              "    </g>\n",
              "</svg>\n",
              "  </button>\n",
              "\n",
              "<style>\n",
              "  .colab-df-quickchart {\n",
              "      --bg-color: #E8F0FE;\n",
              "      --fill-color: #1967D2;\n",
              "      --hover-bg-color: #E2EBFA;\n",
              "      --hover-fill-color: #174EA6;\n",
              "      --disabled-fill-color: #AAA;\n",
              "      --disabled-bg-color: #DDD;\n",
              "  }\n",
              "\n",
              "  [theme=dark] .colab-df-quickchart {\n",
              "      --bg-color: #3B4455;\n",
              "      --fill-color: #D2E3FC;\n",
              "      --hover-bg-color: #434B5C;\n",
              "      --hover-fill-color: #FFFFFF;\n",
              "      --disabled-bg-color: #3B4455;\n",
              "      --disabled-fill-color: #666;\n",
              "  }\n",
              "\n",
              "  .colab-df-quickchart {\n",
              "    background-color: var(--bg-color);\n",
              "    border: none;\n",
              "    border-radius: 50%;\n",
              "    cursor: pointer;\n",
              "    display: none;\n",
              "    fill: var(--fill-color);\n",
              "    height: 32px;\n",
              "    padding: 0;\n",
              "    width: 32px;\n",
              "  }\n",
              "\n",
              "  .colab-df-quickchart:hover {\n",
              "    background-color: var(--hover-bg-color);\n",
              "    box-shadow: 0 1px 2px rgba(60, 64, 67, 0.3), 0 1px 3px 1px rgba(60, 64, 67, 0.15);\n",
              "    fill: var(--button-hover-fill-color);\n",
              "  }\n",
              "\n",
              "  .colab-df-quickchart-complete:disabled,\n",
              "  .colab-df-quickchart-complete:disabled:hover {\n",
              "    background-color: var(--disabled-bg-color);\n",
              "    fill: var(--disabled-fill-color);\n",
              "    box-shadow: none;\n",
              "  }\n",
              "\n",
              "  .colab-df-spinner {\n",
              "    border: 2px solid var(--fill-color);\n",
              "    border-color: transparent;\n",
              "    border-bottom-color: var(--fill-color);\n",
              "    animation:\n",
              "      spin 1s steps(1) infinite;\n",
              "  }\n",
              "\n",
              "  @keyframes spin {\n",
              "    0% {\n",
              "      border-color: transparent;\n",
              "      border-bottom-color: var(--fill-color);\n",
              "      border-left-color: var(--fill-color);\n",
              "    }\n",
              "    20% {\n",
              "      border-color: transparent;\n",
              "      border-left-color: var(--fill-color);\n",
              "      border-top-color: var(--fill-color);\n",
              "    }\n",
              "    30% {\n",
              "      border-color: transparent;\n",
              "      border-left-color: var(--fill-color);\n",
              "      border-top-color: var(--fill-color);\n",
              "      border-right-color: var(--fill-color);\n",
              "    }\n",
              "    40% {\n",
              "      border-color: transparent;\n",
              "      border-right-color: var(--fill-color);\n",
              "      border-top-color: var(--fill-color);\n",
              "    }\n",
              "    60% {\n",
              "      border-color: transparent;\n",
              "      border-right-color: var(--fill-color);\n",
              "    }\n",
              "    80% {\n",
              "      border-color: transparent;\n",
              "      border-right-color: var(--fill-color);\n",
              "      border-bottom-color: var(--fill-color);\n",
              "    }\n",
              "    90% {\n",
              "      border-color: transparent;\n",
              "      border-bottom-color: var(--fill-color);\n",
              "    }\n",
              "  }\n",
              "</style>\n",
              "\n",
              "  <script>\n",
              "    async function quickchart(key) {\n",
              "      const quickchartButtonEl =\n",
              "        document.querySelector('#' + key + ' button');\n",
              "      quickchartButtonEl.disabled = true;  // To prevent multiple clicks.\n",
              "      quickchartButtonEl.classList.add('colab-df-spinner');\n",
              "      try {\n",
              "        const charts = await google.colab.kernel.invokeFunction(\n",
              "            'suggestCharts', [key], {});\n",
              "      } catch (error) {\n",
              "        console.error('Error during call to suggestCharts:', error);\n",
              "      }\n",
              "      quickchartButtonEl.classList.remove('colab-df-spinner');\n",
              "      quickchartButtonEl.classList.add('colab-df-quickchart-complete');\n",
              "    }\n",
              "    (() => {\n",
              "      let quickchartButtonEl =\n",
              "        document.querySelector('#df-b4d76077-1f22-4806-ae97-b2f7ad79119a button');\n",
              "      quickchartButtonEl.style.display =\n",
              "        google.colab.kernel.accessAllowed ? 'block' : 'none';\n",
              "    })();\n",
              "  </script>\n",
              "</div>\n",
              "\n",
              "    </div>\n",
              "  </div>\n"
            ],
            "application/vnd.google.colaboratory.intrinsic+json": {
              "type": "dataframe",
              "variable_name": "songs",
              "summary": "{\n  \"name\": \"songs\",\n  \"rows\": 57650,\n  \"fields\": [\n    {\n      \"column\": \"artist\",\n      \"properties\": {\n        \"dtype\": \"category\",\n        \"num_unique_values\": 643,\n        \"samples\": [\n          \"Ziggy Marley\",\n          \"O.A.R.\",\n          \"Styx\"\n        ],\n        \"semantic_type\": \"\",\n        \"description\": \"\"\n      }\n    },\n    {\n      \"column\": \"song\",\n      \"properties\": {\n        \"dtype\": \"string\",\n        \"num_unique_values\": 44824,\n        \"samples\": [\n          \"Tear Me Down\",\n          \"Lakky Lady\",\n          \"They All Went To Mexico\"\n        ],\n        \"semantic_type\": \"\",\n        \"description\": \"\"\n      }\n    },\n    {\n      \"column\": \"link\",\n      \"properties\": {\n        \"dtype\": \"string\",\n        \"num_unique_values\": 57650,\n        \"samples\": [\n          \"/w/wishbone+ash/right+or+wrong_20147150.html\",\n          \"/a/aerosmith/this+little+light+of+mine_20644484.html\",\n          \"/f/fall+out+boy/dance+dance_10113666.html\"\n        ],\n        \"semantic_type\": \"\",\n        \"description\": \"\"\n      }\n    },\n    {\n      \"column\": \"text\",\n      \"properties\": {\n        \"dtype\": \"string\",\n        \"num_unique_values\": 57494,\n        \"samples\": [\n          \"When the grey skies turn to blue  \\nAnd the dark clouds blow away  \\nIn the morning of a new life  \\nWhen the sun comes shining through  \\nWhen the grey skies turn to blue  \\nIn the morning of a new life  \\nWhen the sun comes shining through  \\nWhen the grey skies turn to blue  \\nMeet me on a bright and windy day  \\nWhen the breeze has blown  \\nThe gray skies far away  \\nHigh upon a hillside  \\nWhen the sun comes shining through  \\nAnd the grey skies turn to blue  \\nWhen the grey skies turn to blue  \\nWhen the grey skies turn to blue  \\n\\n\",\n          \"I met a girl a wonderful girl  \\nWho's really got a lot to recommend her for a girl  \\nFabulous creature without any doubt  \\nHey what am I getting so excited about  \\nShe's just a girl an everyday girl  \\nAnd yet I guess she's really rather special for a girl  \\nFor once you've seen her the others are not  \\nHey what am I getting so excited about  \\nBut so what what has she got others have not  \\nTwo eyes two lips a nose all girls have some of those  \\nBut when she looks up at me what do I see  \\nThe most enchanting face my pulse begins to race  \\nHey I met a girl a marvelous girl  \\nShe rarer than uranium and fairer than a pearl  \\nFound me a treasure and I want to shout  \\nHey what am I getting so excited about  \\nBut so what what has she got others have not  \\nTwo eyes two lips a nose all girls have some of those  \\nBut when she looks up at me what do I see  \\nThe most enchanting face my pulse begins to race  \\n(I got a girl a marvelous girl)  \\n(She rarer than uranium and fairer than a pearl)  \\nFound me a treasure and I want to shout  \\nThis is what am I getting so excited about  \\n(He met a girl) and I fell in love today\\n\\n\",\n          \"She's over by the corner  \\nGot her hands by her sides  \\nThey hit her harder harder harder  \\nTill they thought she might die  \\n  \\nWell I got a foggy notion,  \\nDo it again  \\nOver by the corner,  \\nDo it again  \\nI got my calamine lotion baby,  \\nDo it again  \\nI got a foggy notion,  \\nDo it again  \\n  \\nShe made me do something  \\nThat I never did before  \\nI rushed right down  \\nTo a flower store  \\nI bought her a bundle  \\nA beautiful batch  \\nDon't you know something,  \\nShe sent 'em right back  \\n  \\nSally Mae, Sally Mae,  \\nSally Mae, Sally Mae  \\nSally Mae, Sally Mae,  \\nSally Mae, Sally Mae\\n\\n\"\n        ],\n        \"semantic_type\": \"\",\n        \"description\": \"\"\n      }\n    }\n  ]\n}"
            }
          },
          "metadata": {},
          "execution_count": 63
        }
      ]
    },
    {
      "cell_type": "code",
      "source": [
        "songs = songs.sample(n=5000).drop('link', axis=1).reset_index(drop=True)"
      ],
      "metadata": {
        "id": "T19x33lIMkyD"
      },
      "execution_count": 64,
      "outputs": []
    },
    {
      "cell_type": "code",
      "source": [
        "songs['text'] = songs['text'].str.replace(r'\\n', '')"
      ],
      "metadata": {
        "colab": {
          "base_uri": "https://localhost:8080/"
        },
        "id": "9WTi9XvFMnr2",
        "outputId": "d200453c-a9cd-4173-8825-f579c6615b4b"
      },
      "execution_count": 65,
      "outputs": [
        {
          "output_type": "stream",
          "name": "stderr",
          "text": [
            "<ipython-input-65-215fe46be90d>:1: FutureWarning: The default value of regex will change from True to False in a future version.\n",
            "  songs['text'] = songs['text'].str.replace(r'\\n', '')\n"
          ]
        }
      ]
    },
    {
      "cell_type": "code",
      "source": [
        "tfidf = TfidfVectorizer(analyzer='word', stop_words='english')"
      ],
      "metadata": {
        "id": "1bJ_ZOcrMqlg"
      },
      "execution_count": 66,
      "outputs": []
    },
    {
      "cell_type": "code",
      "source": [
        "lyrics_matrix = tfidf.fit_transform(songs['text'])"
      ],
      "metadata": {
        "id": "4MVC15qlMtin"
      },
      "execution_count": 67,
      "outputs": []
    },
    {
      "cell_type": "code",
      "source": [
        "cosine_similarities = cosine_similarity(lyrics_matrix)"
      ],
      "metadata": {
        "id": "dCGW2yzMMwnn"
      },
      "execution_count": 68,
      "outputs": []
    },
    {
      "cell_type": "code",
      "source": [
        "similarities = {}"
      ],
      "metadata": {
        "id": "qi9IuzCcMze5"
      },
      "execution_count": 69,
      "outputs": []
    },
    {
      "cell_type": "code",
      "source": [
        "for i in range(len(cosine_similarities)):\n",
        "    # Now we'll sort each element in cosine_similarities and get the indexes of the songs.\n",
        "    similar_indices = cosine_similarities[i].argsort()[:-50:-1]\n",
        "    # After that, we'll store in similarities each name of the 50 most similar songs.\n",
        "    # Except the first one that is the same song.\n",
        "    similarities[songs['song'].iloc[i]] = [(cosine_similarities[i][x], songs['song'][x], songs['artist'][x]) for x in similar_indices][1:]"
      ],
      "metadata": {
        "id": "qGtY4HdKM2rQ"
      },
      "execution_count": 70,
      "outputs": []
    },
    {
      "cell_type": "code",
      "source": [
        "class ContentBasedRecommender:\n",
        "    def __init__(self, matrix):\n",
        "        self.matrix_similar = matrix\n",
        "\n",
        "    def _print_message(self, song, recom_song):\n",
        "        rec_items = len(recom_song)\n",
        "\n",
        "        print(f'The {rec_items} recommended songs for {song} are:')\n",
        "        for i in range(rec_items):\n",
        "            print(f\"Number {i+1}:\")\n",
        "            print(f\"{recom_song[i][1]} by {recom_song[i][2]} with {round(recom_song[i][0], 3)} similarity score\")\n",
        "            print(\"--------------------\")\n",
        "\n",
        "    def recommend(self, recommendation):\n",
        "        # Get song to find recommendations for\n",
        "        song = recommendation['song']\n",
        "        # Get number of songs to recommend\n",
        "        number_songs = recommendation['number_songs']\n",
        "        # Get the number of songs most similars from matrix similarities\n",
        "        recom_song = self.matrix_similar[song][:number_songs]\n",
        "        # print each item\n",
        "        self._print_message(song=song, recom_song=recom_song)"
      ],
      "metadata": {
        "id": "6qORFlLnNB4x"
      },
      "execution_count": 71,
      "outputs": []
    },
    {
      "cell_type": "code",
      "source": [
        "recommedations = ContentBasedRecommender(similarities)"
      ],
      "metadata": {
        "id": "eoLg8ZRGNE1u"
      },
      "execution_count": 72,
      "outputs": []
    },
    {
      "cell_type": "code",
      "source": [
        "recommendation = {\n",
        "    \"song\": songs['song'].iloc[10],\n",
        "    \"number_songs\": 4\n",
        "}"
      ],
      "metadata": {
        "id": "RyZQ151RNIPE"
      },
      "execution_count": 73,
      "outputs": []
    },
    {
      "cell_type": "code",
      "source": [
        "recommedations.recommend(recommendation)"
      ],
      "metadata": {
        "colab": {
          "base_uri": "https://localhost:8080/"
        },
        "id": "nL7ine-eNMB2",
        "outputId": "37376b61-cf61-4468-9a63-b5601829b5dc"
      },
      "execution_count": 74,
      "outputs": [
        {
          "output_type": "stream",
          "name": "stdout",
          "text": [
            "The 4 recommended songs for I Can Wait Forever are:\n",
            "Number 1:\n",
            "Are You Gonna Wait Forever? by U2 with 0.47 similarity score\n",
            "--------------------\n",
            "Number 2:\n",
            "Always And Forever by Kenny Rogers with 0.384 similarity score\n",
            "--------------------\n",
            "Number 3:\n",
            "Forever In Your Heart by 'n Sync with 0.375 similarity score\n",
            "--------------------\n",
            "Number 4:\n",
            "Tell Me You'll Wait For Me by Ray Charles with 0.368 similarity score\n",
            "--------------------\n"
          ]
        }
      ]
    },
    {
      "cell_type": "code",
      "source": [
        "recommendation2 = {\n",
        "    \"song\": songs['song'].iloc[120],\n",
        "    \"number_songs\": 4\n",
        "}"
      ],
      "metadata": {
        "id": "IDFS5uWKNOz7"
      },
      "execution_count": 75,
      "outputs": []
    },
    {
      "cell_type": "code",
      "source": [
        "recommedations.recommend(recommendation2)"
      ],
      "metadata": {
        "colab": {
          "base_uri": "https://localhost:8080/"
        },
        "id": "EEI8QcnlNSXW",
        "outputId": "b756ec2c-af7d-46dd-ffe5-6b60beb93ff1"
      },
      "execution_count": 76,
      "outputs": [
        {
          "output_type": "stream",
          "name": "stdout",
          "text": [
            "The 4 recommended songs for The Mention Of Your Name are:\n",
            "Number 1:\n",
            "Lonely Days by Bee Gees with 0.208 similarity score\n",
            "--------------------\n",
            "Number 2:\n",
            "Friend Of A Friend by Tim McGraw with 0.195 similarity score\n",
            "--------------------\n",
            "Number 3:\n",
            "Friends by Nazareth with 0.186 similarity score\n",
            "--------------------\n",
            "Number 4:\n",
            "Conceal Me by Xavier Rudd with 0.18 similarity score\n",
            "--------------------\n"
          ]
        }
      ]
    }
  ]
}